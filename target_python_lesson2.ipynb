{
  "cells": [
    {
      "metadata": {
        "id": "hyBnvscASQZJ"
      },
      "cell_type": "markdown",
      "source": [
        "\n",
        "# Target Python Lesson - Part 2\n",
        "\n",
        "---\n",
        "# 1: Tuples & Dictionary\n",
        "\n",
        "Like lists, also tuples and dictionaries allow to store multiple values, but they serve different purposes.\n",
        "\n",
        "### 1.1: Tuples\n",
        "\n",
        "The only major difference between a Tuple and a List is that a tuple is immutable, you **cannot** edit/remove/add values to it. Once you create a tuple, that's it. Tuples were created for speed. If you're dealing with A LOT of data or SINGLE USE data, tuples are great. They are being used in some of the projects that we'll show you.\n",
        "\n",
        "Defining tuples is very similar to defining a list. Use parenthesizes `()` instead of brackets `[]`. There is no difference for accessing its elements, you use brackets `[]` like for lists."
      ]
    },
    {
      "metadata": {
        "id": "zSBXTXKSSQZK",
        "outputId": "03651389-14bf-4392-dbff-942db922f45d",
        "colab": {
          "base_uri": "https://localhost:8080/"
        }
      },
      "cell_type": "code",
      "source": [
        "\"\"\"Remember that just like lists, tuples are a variable that hold\n",
        "lots of other variables.\n",
        "aListExample = ['do', 'you, 'remember?']\n",
        "\n",
        "btw, this is a block comment. It's exactly like the\n",
        "# comment\n",
        " but you can continue this comment on multiple lines and\n",
        "end it by typing:\"\"\"\n",
        "\n",
        "Tuple_example = ('This', 'is', 'a', 'tuple')\n",
        "\n",
        "Tuple_example"
      ],
      "execution_count": 2,
      "outputs": [
        {
          "output_type": "execute_result",
          "data": {
            "text/plain": [
              "('This', 'is', 'a', 'tuple')"
            ]
          },
          "metadata": {},
          "execution_count": 2
        }
      ]
    },
    {
      "metadata": {
        "id": "Zl2ixAbGSQZL",
        "outputId": "6e51fe53-21d5-4474-9c42-501abe474307",
        "colab": {
          "base_uri": "https://localhost:8080/",
          "height": 35
        }
      },
      "cell_type": "code",
      "source": [
        "Tuple_example[3]"
      ],
      "execution_count": 3,
      "outputs": [
        {
          "output_type": "execute_result",
          "data": {
            "text/plain": [
              "'tuple'"
            ],
            "application/vnd.google.colaboratory.intrinsic+json": {
              "type": "string"
            }
          },
          "metadata": {},
          "execution_count": 3
        }
      ]
    },
    {
      "metadata": {
        "id": "pl5H7KzLSQZL"
      },
      "cell_type": "markdown",
      "source": [
        "### 1.2: Dictionary\n",
        "\n",
        "Dictionaries (aka hash tables) are a collection of elements like lists and tuples, but they store key-value pairs. You use unique keys to set, change or access the corresponding values, one at the time. Keys can be strings, numbers, almost anything (anithing that is immutable and has a hash function). It is very quick to access/modify a single element, slower if you need to sort them or access multiple elements. Check it out below,"
      ]
    },
    {
      "metadata": {
        "id": "EM66_7XXSQZL"
      },
      "cell_type": "code",
      "source": [
        "aDictionary = {'theKey': 'theValueoftheKey', 'name': 'John', 'age': 24}\n",
        "# They are created with squiggly brackets {}\n",
        "\n",
        "aDictionary['name']"
      ],
      "execution_count": null,
      "outputs": []
    },
    {
      "metadata": {
        "id": "YzgkToZuSQZL"
      },
      "cell_type": "code",
      "source": [
        "aDictionary['age']"
      ],
      "execution_count": null,
      "outputs": []
    },
    {
      "metadata": {
        "id": "qt2wEXxjSQZL"
      },
      "cell_type": "code",
      "source": [
        "aDictionary['surname'] = 'Doe'  # You can add entries to a Dictionary\n",
        "aDictionary['surname']"
      ],
      "execution_count": null,
      "outputs": []
    },
    {
      "metadata": {
        "id": "6YAlKAaUSQZL"
      },
      "cell_type": "markdown",
      "source": [
        "# 2. Modules and Packages\n",
        "\n",
        "Remember importing the math standard library from last week? You can import all kind of modules and also define your own. Let's say that you have a very complex application written in Python. Writing all of your code in one script would not be efficient.\n",
        "\n",
        "\n",
        "In fact, say that parts of your application will use certain functions and other parts will not. To make your application more efficient, you can separate those functions in other files and then import them whenever you need them.\n",
        "\n",
        "A collection of Python modules (e.g. the Python files in the same directory) is called package.\n",
        "A package must include also `__init__.py`, a special file, empty for now, indicating that that is a Python package.\n",
        "\n",
        "We're going now to create two files. One file, the **module**, will contain a function. The other file, the **script**, will import the first one and execute the function."
      ]
    },
    {
      "metadata": {
        "id": "CcWuMTZdSQZL"
      },
      "cell_type": "markdown",
      "source": [
        "Here is the `printWithBorders` function from Challenge 1.1 that we will write (or copy) inside the module\n",
        "```\n",
        "def printWithBorders(text_to_print):\n",
        "    numChar = len(text_to_print)\n",
        "    border = numChar*'='\n",
        "    print(border + '\\n' + text_to_print + '\\n' + border)  # remember, \\n creates a newline\n",
        "```"
      ]
    },
    {
      "metadata": {
        "id": "RJYdRAx0SQZL"
      },
      "cell_type": "markdown",
      "source": [
        "There are 3 options to do this:\n",
        "1. Create a new notebook and import its cells using importnb\n",
        "2. Use the built-in command `%%writefile`\n",
        "3. Create a python file in a subfolder and import it\n",
        "\n",
        "The first is more direct since you can do almost all from the notebook, but relies on importnb that may be broken. The last is more standard shell and Python.\n",
        "\n",
        "Try 2.1 (using the Notebook) first and fall back to 2.2 if the first method is not working, and finally to 2.3 if the other 2 are not working.\n",
        "\n",
        "> **NOTE - Notebook magic**: Notebooks run in their own isolated environment (a VM or a Container). In this document we'll run some commands (shell commands) in the Notebook environment:\n",
        "  - lines starting with `!` (bang) run a command in a subprocess (isolated) you can affect files and print output but there are no effects on the environment and current directory\n",
        "  - lines starting with `%` (percent) run the command and affect also the Python environment (e.g. changing a directory)\n",
        ">\n",
        "> To learn more about shell commands check this brief [shell introduction](https://sites.google.com/view/targetpython/start/shell-command-line) and its linked resources."
      ]
    },
    {
      "cell_type": "markdown",
      "source": [
        "## Importing from a notebook file\n",
        "\n",
        "<!--\n",
        "Images for std Jupyter Notebook\n",
        "![](https://i.imgur.com/VJJZB9i.png)\n",
        "![](https://i.imgur.com/GOmYaMq.png)\n",
        "![](https://i.imgur.com/zjgq1mp.png)\n",
        "![](https://i.imgur.com/sFMY402.png)\n",
        "-->\n",
        "\n",
        "First, let's create a new notebook:\n",
        "\n",
        "<img src=\"https://raw.githubusercontent.com/mambelli/target-python-lesson2/master/images/colab_newfile.jpeg\" alt=\"Open a new Notebook\" width=\"300\"/>\n",
        "\n",
        "Second, copy (copy and paste from above) or type the function into it.\n",
        "\n",
        "![Pasted function in Notebook](https://raw.githubusercontent.com/mambelli/target-python-lesson2/master/images/colab_pwb_function.jpeg)\n",
        "\n",
        "Third, rename it to `function` by clicking on the name on top of the page,\n",
        "\n",
        "<img src=\"https://raw.githubusercontent.com/mambelli/target-python-lesson2/master/images/colab_rename.jpeg\" alt=\"Rename a Colab document\" width=\"300\"/>\n",
        "\n",
        "Last, save the Notebook to your Google Drive.\n",
        "You'll have to go through a couple of pop-ups to select your Google account and to allow the Notebook to save into your Google Drive.\n",
        "\n",
        "<img src=\"https://raw.githubusercontent.com/mambelli/target-python-lesson2/master/images/colab_save.jpeg\" alt=\"Save in Google Drive\" width=\"300\"/>\n"
      ],
      "metadata": {
        "id": "xB6lhTVrSQZL"
      }
    },
    {
      "metadata": {
        "id": "9JCxnl0rSQZL"
      },
      "cell_type": "markdown",
      "source": [
        "Okay, once that is done, run the command below (don't worry too much about this, again this allows us to treat Python Notebooks as actual Python scripts). Install `importnb`. Give the command a minute, once you see a number appear inside of `In []`, then you can move on. [Click here](https://readthedocs.org/projects/importnb/) learn more about `importnb`."
      ]
    },
    {
      "metadata": {
        "id": "OSAy-5ADSQZL"
      },
      "cell_type": "code",
      "source": [
        "!pip install importnb"
      ],
      "execution_count": null,
      "outputs": []
    },
    {
      "metadata": {
        "id": "3kQQi05pSQZL"
      },
      "cell_type": "markdown",
      "source": [
        "And if you renamed the file correctly, and have the correct function name, you should see the file `funxtion.ipynd` in your Google Drive (in \"My Drive > Colab Notebooks\"), and the below block of code should execute without any issue.\n",
        "\n",
        "First let's \"mount\" Google Drive to this notebook. Please approve the popups."
      ]
    },
    {
      "cell_type": "code",
      "source": [
        "from google.colab import drive\n",
        "drive.mount('/content/drive')\n"
      ],
      "metadata": {
        "id": "ZeYrqK6sSQZM"
      },
      "execution_count": null,
      "outputs": []
    },
    {
      "cell_type": "markdown",
      "source": [
        "Then change your working directory to the notebook's folder in the drive. The `ls` command will print all the files in your drive's Colab folder. You should see `function.ipynb`."
      ],
      "metadata": {
        "id": "-HnCdfPFSQZM"
      }
    },
    {
      "cell_type": "code",
      "source": [
        "%cd /content/drive/My\\ Drive/Colab\\ Notebooks\n",
        "!pwd\n",
        "!ls"
      ],
      "metadata": {
        "id": "fy9_Jg6ySQZM"
      },
      "execution_count": null,
      "outputs": []
    },
    {
      "metadata": {
        "id": "v_aBrukrSQZM"
      },
      "cell_type": "code",
      "source": [
        "# Python Notebook Import\n",
        "from importnb import imports, Notebook\n",
        "with imports(\"ipynb\"):\n",
        "    import function\n",
        "\n",
        "# The import is done only once (the version of the Notebook the first\n",
        "# time it was executed)\n",
        "# This reload is to get the latest changes that you may make to the\n",
        "# Notebook\n",
        "from importlib import reload\n",
        "with Notebook():\n",
        "    reload(function)\n",
        "\n",
        "# Note: If you were using .py files (see also the next section),\n",
        "# then you would just use:\n",
        "# import function\n",
        "# from importlib import reload\n",
        "# reload(function)\n",
        "function.printWithBorders('Hello World')"
      ],
      "execution_count": null,
      "outputs": []
    },
    {
      "cell_type": "markdown",
      "source": [
        "## Use the built-in command `%%writefile`\n",
        "\n",
        "iPython, the interpreter running the code in the Notebook, may have (the provider must enable them) special commands starting with `%` called \"Built-in magic commands\". We saw already `%cd`, here we'll use `%%writefile` which writes the cell content to a file. The first line must be `%%writefile FILENAME`, the rest of the cell is written to the file.\n",
        "\n",
        "There are many more built-ins. If curious, see the [Magic commands section in the iPython manual](https://ipython.readthedocs.io/en/stable/interactive/magics.html)."
      ],
      "metadata": {
        "id": "luW2VFGUSQZM"
      }
    },
    {
      "cell_type": "code",
      "source": [
        "%%writefile function.py\n",
        "def printWithBorders(text_to_print):\n",
        "    numChar = len(text_to_print)\n",
        "    border = numChar*'='\n",
        "    print(border + '\\n' + text_to_print + '\\n' + border)"
      ],
      "metadata": {
        "id": "MyLeLDeYSQZM"
      },
      "execution_count": null,
      "outputs": []
    },
    {
      "cell_type": "code",
      "source": [
        "import function\n",
        "function.printWithBorders(\"hello world\")"
      ],
      "metadata": {
        "id": "cAuxYzQySQZM"
      },
      "execution_count": null,
      "outputs": []
    },
    {
      "metadata": {
        "id": "cPtAcUHUSQZM"
      },
      "cell_type": "markdown",
      "source": [
        "## Creating a Python file and importing it\n",
        "\n",
        "The Python file, module, must be created in a subdirectory to make it part of a package.\n",
        "Relative imports outside a package are not possible.\n",
        "\n",
        "In the notebooks you can run shell code using the \"!\" (bang) prefix.\n",
        "Here the code to create the package and edit the file:\n",
        "- create the folder\n",
        "- create `__init__.py`\n",
        "- add the lines to `function.py`\n",
        "- list the content of the package\n"
      ]
    },
    {
      "metadata": {
        "id": "0KsfpnJVSQZM"
      },
      "cell_type": "code",
      "source": [
        "!mkdir -p mypkg\n",
        "!touch mypkg/__init__.py\n",
        "!echo \"def printWithBorders(text_to_print):\" > mypkg/function.py\n",
        "!echo \"    numChar = len(text_to_print)\" >> mypkg/function.py\n",
        "!echo \"    border = numChar*'='\" >> mypkg/function.py\n",
        "# Adding some '\\' below to escape the string in the echo command: \\n -> \\\\\\n\n",
        "!echo \"    print(border + '\\\\n' + text_to_print + '\\\\n' + border)\" >> mypkg/function.py\n",
        "\n",
        "print(\"\\n### These are the files in the project\")\n",
        "!ls\n",
        "print(\"\\n### These are the content of mypkg, and function.py\")\n",
        "!ls mypkg\n",
        "!cat mypkg/function.py\n"
      ],
      "execution_count": null,
      "outputs": []
    },
    {
      "metadata": {
        "id": "0xEn36d1SQZM"
      },
      "cell_type": "markdown",
      "source": [
        "> **NOTE about Colab File Browser:** For more complex arbitrary files, you can create and edit them via the Colab File Browser. Right click on a folder to upload or create a file.\n",
        ">\n",
        "> <img src=\"https://github.com/mambelli/target-python-lesson2/blob/master/images/colab_file_browser.jpeg?raw=1\" alt=\"Colab File Browser\" width=\"300\">\n",
        ">\n",
        "> Sometime you need to close and reopen the File Browser by clicking on the folder icon to refresh its content.\n",
        ">\n",
        "> See the [post \"How to Deal With Files in Google Colab: Everything You Need to Know\"](https://neptune.ai/blog/google-colab-dealing-with-files) and the [post about loading external data](https://towardsdatascience.com/7-ways-to-load-external-data-into-google-colab-7ba73e7d5fc7) for more ways to create, upload and download files.\n",
        "\n",
        "Once you upload or create a file you can import and use it."
      ]
    },
    {
      "metadata": {
        "id": "kjG5SWpNSQZM"
      },
      "cell_type": "code",
      "source": [
        "# Since the interpreter is caching the copntent of the folders\n",
        "# in its sys.path, it is necessary to invalidate the caches\n",
        "# if the file was created after starting the interpreter\n",
        "# (i.e. connecting to the environment)\n",
        "\n",
        "from importlib import invalidate_caches\n",
        "invalidate_caches()\n",
        "\n",
        "from mypkg import function\n",
        "function.printWithBorders(\"hello world\")\n"
      ],
      "execution_count": null,
      "outputs": []
    },
    {
      "metadata": {
        "id": "QNTAebfOSQZM"
      },
      "cell_type": "code",
      "source": [
        "# After testing the module import\n",
        "# run this only if you'd like to cleanup the folder 'mypkg' with the\n",
        "# modules created at the beginning of the section\n",
        "!rm -r mypkg"
      ],
      "execution_count": null,
      "outputs": []
    },
    {
      "metadata": {
        "id": "KfVWsM_ySQZM"
      },
      "cell_type": "markdown",
      "source": [
        "So, what the Python interpreter is doing is looking in your directory where your script is and trying to find a python file called `function.py` (in this case a different extension but in practice it would be `.py`). It found it, so it executed what was within that file. Say, if it did not find it locally in the same folder as this script, it would then look where all of your standard libraries are. But  there is no standard library called `function`, so it would error out.\n",
        "\n",
        "# 3. File I/O\n",
        "\n",
        "### 3.1 Opening basic files\n",
        "\n",
        "I/O means Input/Output. So, we are going to learn how to read and write files with Python. It's important to know that when Python interacts with a file like creating, reading, or writing a file, it puts a handle on that file. Think of this like a library hold. You can place a hold on a library book. When you do this, no one else can checkout that book except you. Well, in the file system, this is the same. Python's saying, \"I have a handle on this file, no one else make any changes to it or delete it\". This prevents two applications for making changes at the same time to the same file or deleting it.\n",
        "\n",
        "There are quite a few ways that Python can open a file, we'll look at a few.\n",
        "\n",
        "| Mode* | English\n",
        "| --- | :--- |\n",
        "| r | Read a file, nothing else |\n",
        "| r+ | Read a file, write to the **beginning** of the file|\n",
        "| w | Write to a file (create or completely overwrite the file) |\n",
        "| w+ | Read and Write to a file (if there's content, you can read it, and then completely overwrite it) |\n",
        "| a | Append to a file (write to the bottom of a file) |\n",
        "| a+ | Append & Read to a file (Read the contents, and then add more to it) |\n",
        "\n",
        "- There are more modes, but these are all the ones you should understand for now\n",
        "- Here we are using text files (the default). Python supports also binary files, adding the letter `b` to the mode string, e.g. `\"bw+\"`\n",
        "\n",
        "Here are a few examples:\n",
        "\n",
        "- Write to a file (create one)"
      ]
    },
    {
      "metadata": {
        "id": "0H-g9FE1SQZM"
      },
      "cell_type": "code",
      "source": [
        "texthandle = open(\"MyFileName.txt\", \"w\") # Use open (even if the file doesn't currently exist)\n",
        "# We now have a handle on the file MyFileName.txt which can be found in your current directory where your script lives\n",
        "# Let's write something to it\n",
        "texthandle.write(\"This is at the top of the file\\nThis is at the bottom of the file\") # \\n means new line\n",
        "# Now, let's close the file (so we don't have a handle on it anymore)\n",
        "texthandle.close()"
      ],
      "execution_count": null,
      "outputs": []
    },
    {
      "metadata": {
        "id": "U0OQDj7TSQZM"
      },
      "cell_type": "markdown",
      "source": [
        "- Now let's read a file (you should see it also in the file browser)"
      ]
    },
    {
      "metadata": {
        "id": "oTBWwWHDSQZM"
      },
      "cell_type": "code",
      "source": [
        "!ls\n",
        "\n",
        "theFile = open(\"MyFileName.txt\", \"r\")\n",
        "# Got it open, now print out the contents\n",
        "print(\"The name of the file is: \" + theFile.name)\n",
        "print(theFile.read(5)) # Whatever is in the read parameter, that's how many bytes to read at a time\n",
        "# Note: You'll see that as you repeat the above command, it will keep going from the point it left off\n",
        "#       To reset this, tell Python to seek at byte 0 and then continue again\n",
        "theFile.seek(0)\n",
        "# Okay, reading every certain amounts of bytes can be annoying. If we know we're dealing with a SMALL text document, then we can tell Python to load the whole thing:\n",
        "print(theFile.read())\n",
        "theFile.close()"
      ],
      "execution_count": null,
      "outputs": []
    },
    {
      "cell_type": "markdown",
      "source": [
        "For longer text files we can read line by line with a for loop. Here we are also using the context operator `with`, which automatically closes the file at the end. This is the best way to operate with files."
      ],
      "metadata": {
        "id": "XoBgQJ_sSQZM"
      }
    },
    {
      "cell_type": "code",
      "source": [
        "with open(\"MyFileName.txt\") as theFile:\n",
        "  counter = 0\n",
        "  for line in theFile.readlines():\n",
        "    # .strip() removes the \"newline\" from line, since print() will add one too\n",
        "    print(f\"{counter}: {line.strip()}\")\n",
        "    counter += 1"
      ],
      "metadata": {
        "id": "6jjIsScnSQZM"
      },
      "execution_count": null,
      "outputs": []
    },
    {
      "metadata": {
        "id": "9y3UDCGXSQZN"
      },
      "cell_type": "markdown",
      "source": [
        "Okay, let's remove the file without even opening it. We can't delete a file with the `open()`, but there is standard library that can. It's called `os` and this is a module that let's you manipulate the operating system. Let's rename a file and then delete one without opening it using this module."
      ]
    },
    {
      "metadata": {
        "id": "24wojUeWSQZN"
      },
      "cell_type": "code",
      "source": [
        "import os\n",
        "\n",
        "os.rename(\"MyFileName.txt\", \"MyNewFileName.txt\") # 1st Argument, the original file name, 2nd arg, the new file name\n",
        "input(\"do you see the change? (click enter)\")\n",
        "os.remove(\"MyNewFileName.txt\") # It's gone now"
      ],
      "execution_count": null,
      "outputs": []
    },
    {
      "cell_type": "code",
      "source": [
        "!pwd\n",
        "%cd /content/sample_data\n",
        "!ls"
      ],
      "metadata": {
        "id": "gwC1SP_7SQZN"
      },
      "execution_count": null,
      "outputs": []
    },
    {
      "metadata": {
        "id": "rnCY-LiBSQZN"
      },
      "cell_type": "markdown",
      "source": [
        "The `os` module has a lot more functionality and something you use if you would like to make changes to the computer itself.\n",
        "\n",
        "**IMPORTANT** There is no recycle bin in the Notebook. When you delete a document with `os.remove()` or `!rm ...` it is forever, there is no way to undo.\n",
        "\n",
        "### 3.2 Opening complex files\n",
        "\n",
        "I'm sure you've heard of and used Microsoft Excel or Google Sheets. While we can't open their files directly because it has special encoding, we can convert those documents into a text based files. In this file, each cell is separated by a comma and rows by a carriage return (new line just like `\\n`).\n",
        "\n",
        "We can then use one of the standard libraries to read one of these files and it can even process the comma's and carriage returns and put it into a list for us.\n",
        "\n",
        "To make this easier, we have provided code below to create a CSV file which is just a text file named \"example.csv\" with the following contents,\n",
        "\n",
        "```\n",
        "1,5\n",
        "2,8\n",
        "3,2\n",
        "4,4\n",
        "5,4\n",
        "6,6\n",
        "7,2\n",
        "8,3\n",
        "9,4\n",
        "10,5\n",
        "```"
      ]
    },
    {
      "cell_type": "code",
      "source": [
        "%%bash\n",
        "# shell code creating example.csv\n",
        "cat << EOF > example.csv\n",
        "1,5\n",
        "2,8\n",
        "3,2\n",
        "4,4\n",
        "5,4\n",
        "6,6\n",
        "7,2\n",
        "8,3\n",
        "9,4\n",
        "10,5\n",
        "EOF"
      ],
      "metadata": {
        "id": "eRqF0sdXSQZN"
      },
      "execution_count": null,
      "outputs": []
    },
    {
      "metadata": {
        "id": "Awp8a5j1SQZN"
      },
      "cell_type": "code",
      "source": [
        "import csv\n",
        "\n",
        "csv_file = open(\"example.csv\", \"r\")  # Open the file in Python\n",
        "\n",
        "csv_data = csv.reader(csv_file)  # Read it as a csv file\n",
        "\n",
        "csv_data_list = list(csv_data)  # Turn it into a list\n",
        "\n",
        "print(\"The whole thing: \"+str(csv_data_list))  # With string concatenation and other variables"
      ],
      "execution_count": null,
      "outputs": []
    },
    {
      "metadata": {
        "id": "7eeinp_TSQZN"
      },
      "cell_type": "code",
      "source": [
        "print(\"Row 1: \"+str(csv_data_list[0])) # We need to the other variables into strings"
      ],
      "execution_count": null,
      "outputs": []
    },
    {
      "metadata": {
        "id": "CZ21vNU9SQZQ"
      },
      "cell_type": "code",
      "source": [
        "print(\"Row 1 Column 1: \"+str(csv_data_list[0][0])) # Use the str() function to do that"
      ],
      "execution_count": null,
      "outputs": []
    },
    {
      "metadata": {
        "id": "UzVHH1_ySQZR"
      },
      "cell_type": "markdown",
      "source": [
        "# 4. Matplotlib\n",
        "\n",
        "The last thing we're going to do today is learning how to use a library called Matplotlib. While this is not part of the standard libraries that always come with Python, we've gone ahead and installed it for you together with the Python interpreter. Matplotlib takes data and plots them. It is very easy to use but allows you to create very advanced plots.\n",
        "\n",
        "Let's take our csv data file from above and use that to create a plot."
      ]
    },
    {
      "cell_type": "code",
      "source": [
        "!pip install matplotlib"
      ],
      "metadata": {
        "id": "iVsifX58SQZR"
      },
      "execution_count": null,
      "outputs": []
    },
    {
      "metadata": {
        "id": "u5xVV_BrSQZR"
      },
      "cell_type": "code",
      "source": [
        "import matplotlib.pyplot as plt\n",
        "import csv\n",
        "\n",
        "csv_file = open('example.csv', 'r')  # Open the file in Python\n",
        "\n",
        "csv_data = csv.reader(csv_file)  # Read it as a csv file\n",
        "\n",
        "csv_data_list = list(csv_data)  # Turn it into a list\n",
        "\n",
        "# Go through every point in the data\n",
        "for points in csv_data_list:\n",
        "    plt.scatter(points[0], points[1])  # Plot the point\n",
        "\n",
        "plt.show()  # Now show the plot"
      ],
      "execution_count": null,
      "outputs": []
    },
    {
      "metadata": {
        "id": "N4o6sluNSQZR"
      },
      "cell_type": "markdown",
      "source": [
        "Let's say we wanted to connect those points in the scatter plot, add some other data as well, and label it,"
      ]
    },
    {
      "metadata": {
        "id": "H0VjxJLKSQZR"
      },
      "cell_type": "code",
      "source": [
        "import matplotlib.pyplot as plt\n",
        "import csv\n",
        "\n",
        "csv_file = open('example.csv', 'r')  # Open the file in Python\n",
        "\n",
        "csv_data = csv.reader(csv_file)  # Read it as a csv file\n",
        "\n",
        "csv_data_list = list(csv_data)  # Turn it into a list\n",
        "\n",
        "# Now transpose the data\n",
        "# Right now, it's [[1,1], [2,2], [3,3]]\n",
        "# We need it to be [[1,2,3], [1,2,3]]\n",
        "# This will do that for us\n",
        "transposed_data = list(map(list, zip(*csv_data_list)))\n",
        "\n",
        "# Ok, now split those two inner lists to x and y\n",
        "x, y = transposed_data\n",
        "\n",
        "\"\"\"Same thing as\n",
        "x = transposed_data[0]\n",
        "y = transposed_data[1]\n",
        "\"\"\"\n",
        "\n",
        "plt.plot(x,y, label=\"Example.csv File\")  # Create the plot from the points\n",
        "\n",
        "plt.plot([2,3,9],[2,5,3], label=\"Other data\")  # We can have multiple data sets in one plot\n",
        "\n",
        "plt.xlabel('x axis')\n",
        "plt.ylabel('y axis')\n",
        "plt.title('My Plot Title')\n",
        "plt.legend()  # Show a legend with the labels\n",
        "\n",
        "plt.show()  # Now show the plot"
      ],
      "execution_count": null,
      "outputs": []
    },
    {
      "metadata": {
        "id": "b13RiuSoSQZR"
      },
      "cell_type": "markdown",
      "source": [
        "For this last example, let's create a histogram. We're going to roll two dice and add their values. Then we're going to plot our results on a histogram. Let's roll 20,000 times."
      ]
    },
    {
      "metadata": {
        "id": "yV-Y_PUmSQZR"
      },
      "cell_type": "code",
      "source": [
        "import matplotlib.pyplot as plt\n",
        "import random\n",
        "\n",
        "number_of_rolls = 10000\n",
        "\n",
        "results = []\n",
        "for i in range(number_of_rolls):\n",
        "    # We're rolling two times and adding them together\n",
        "    newValue = random.randint(1,6)+random.randint(1,6)\n",
        "    # We have our two dice added together, add it to the results list\n",
        "    results.append(newValue)\n",
        "\n",
        "# First parameter is the data, second is the number of bins\n",
        "plt.hist(results, 10)\n",
        "\n",
        "# Present our plot\n",
        "plt.show()"
      ],
      "execution_count": null,
      "outputs": []
    },
    {
      "metadata": {
        "id": "Th3NNlQmSQZR"
      },
      "cell_type": "markdown",
      "source": [
        "# Basic Python Completion\n",
        "\n",
        "Okay, if you've made it this far, you actually know quite a bit of Python. If you were able to complete or understand how to complete last week's challenges and can complete this week's challenges, you are ready to start working on your project. First complete this week's challenges and then ask about the next step."
      ]
    }
  ],
  "metadata": {
    "language_info": {
      "name": "python"
    },
    "colab": {
      "provenance": []
    },
    "kernelspec": {
      "name": "python3",
      "display_name": "Python 3"
    }
  },
  "nbformat": 4,
  "nbformat_minor": 0
}